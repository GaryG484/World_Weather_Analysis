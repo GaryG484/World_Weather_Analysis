{
 "cells": [
  {
   "cell_type": "code",
   "execution_count": 16,
   "id": "c0a3a4c9",
   "metadata": {},
   "outputs": [],
   "source": [
    "# Import the random module. This allows us to make random numbers. We can set a range for the numbers if we want.\n",
    "import random\n",
    "\n",
    "# Import the NumPy module. NumPy is  a numerical mathematics library that can be used to make arrays or matrices of numbers.\n",
    "# NumPy has a built in random module, so we don't actually need to import random if we import this as its redundent. \n",
    "# I have both here to show how to use the random one. \n",
    "import numpy as np\n",
    "\n",
    "# Import timeit. Magic command called timeit which tells you how long it takes to run a piece of code.\n",
    "import timeit"
   ]
  },
  {
   "cell_type": "code",
   "execution_count": 3,
   "id": "f41de5a2",
   "metadata": {},
   "outputs": [
    {
     "data": {
      "text/plain": [
       "-43"
      ]
     },
     "execution_count": 3,
     "metadata": {},
     "output_type": "execute_result"
    }
   ],
   "source": [
    "# the numbers are the range from which a random number can be selected. \n",
    "random.randint(-90, 90)"
   ]
  },
  {
   "cell_type": "code",
   "execution_count": 6,
   "id": "5323c09c",
   "metadata": {},
   "outputs": [
    {
     "data": {
      "text/plain": [
       "0.20673486709905597"
      ]
     },
     "execution_count": 6,
     "metadata": {},
     "output_type": "execute_result"
    }
   ],
   "source": [
    "# we can use the random funtion which will get us a single floating-point decimal between 0 and 1.0\n",
    "random.random()"
   ]
  },
  {
   "cell_type": "code",
   "execution_count": 8,
   "id": "d954d1a1",
   "metadata": {},
   "outputs": [
    {
     "data": {
      "text/plain": [
       "[49.28063724428571,\n",
       " -11.179897157524177,\n",
       " 61.919516595809135,\n",
       " -81.63031563357693,\n",
       " -49.252833287661524,\n",
       " -69.1088105811687,\n",
       " 50.13206262431961,\n",
       " 71.89255509470387,\n",
       " 79.67699113182566,\n",
       " -51.956643733679215]"
      ]
     },
     "execution_count": 8,
     "metadata": {},
     "output_type": "execute_result"
    }
   ],
   "source": [
    "# exampl of how we can generate latitued between -90 and 89 using the random.radint(x,y) and random.random() method\n",
    "x = 1\n",
    "latitudes = []\n",
    "while x < 11:\n",
    "    random_lat = random.randint(-90, 89) + random.random()\n",
    "    latitudes.append(random_lat)\n",
    "    x += 1\n",
    "\n",
    "# output of above code\n",
    "latitudes\n",
    "\n",
    "# In the code block above, we:\n",
    "\n",
    "    # Assign the variable x to 1.\n",
    "    # Initialize an empty list, latitudes.\n",
    "    # We create a while loop where we generate a random latitude and add it to the list.\n",
    "    # After the random latitude is added to the list we add one to the variable \"x\".\n",
    "    # The while loop condition is checked again and will continue to run as long as x is less than 11"
   ]
  },
  {
   "cell_type": "code",
   "execution_count": 11,
   "id": "4189ebbf",
   "metadata": {},
   "outputs": [
    {
     "data": {
      "text/plain": [
       "54"
      ]
     },
     "execution_count": 11,
     "metadata": {},
     "output_type": "execute_result"
    }
   ],
   "source": [
    "# randrange allows us to set up a difference between eanch number in a sequence. This number is set = to step. \n",
    "# Default is one if nothing is set = step .  The difference between each number in a sequence below is 3. \n",
    "random.randrange(-90, 90, step=3)"
   ]
  },
  {
   "cell_type": "code",
   "execution_count": 12,
   "id": "6121b5f7",
   "metadata": {},
   "outputs": [
    {
     "data": {
      "text/plain": [
       "-32.11558700435117"
      ]
     },
     "execution_count": 12,
     "metadata": {},
     "output_type": "execute_result"
    }
   ],
   "source": [
    "# The uniform() function will allow us to generate a floating-point decimal number between two given numbers inside the parentheses.\n",
    "random.uniform(-90, 90)"
   ]
  },
  {
   "cell_type": "code",
   "execution_count": 14,
   "id": "eac6b111",
   "metadata": {},
   "outputs": [
    {
     "data": {
      "text/plain": [
       "39.34279608644516"
      ]
     },
     "execution_count": 14,
     "metadata": {},
     "output_type": "execute_result"
    }
   ],
   "source": [
    "# Below we start to use NumPy as well. \n",
    "np.random.uniform(-90.000, 90.000)"
   ]
  },
  {
   "cell_type": "code",
   "execution_count": 15,
   "id": "9d54c069",
   "metadata": {},
   "outputs": [
    {
     "data": {
      "text/plain": [
       "array([-6.51425791e+01,  2.80029327e+01, -8.65565982e+00,  7.46696613e+01,\n",
       "       -3.30277041e+00,  7.93333793e+01, -8.03937732e+01,  3.66557376e+01,\n",
       "        8.32089242e+01,  3.20770638e+01, -1.68409522e+01, -1.25316060e+01,\n",
       "       -8.98171661e+01,  6.37722255e+01, -8.86009953e+01,  3.25428910e+01,\n",
       "        5.26620464e+01,  6.31658037e+01, -4.13583926e+01,  2.34627369e+01,\n",
       "        2.44881275e+01, -5.29614738e+01,  4.30435458e+01,  3.69720190e+01,\n",
       "       -5.40236842e+01,  1.61668741e-02, -3.47706004e+01, -2.68005001e+01,\n",
       "       -2.12023783e+01,  1.52603427e+01, -7.66575063e+01, -6.94306585e+01,\n",
       "        5.56555721e+01, -2.39189928e+01,  1.48200521e+00, -1.04243902e+01,\n",
       "        1.97175975e+01, -3.70504117e+01,  5.44247685e+01, -1.04610485e+01,\n",
       "        2.96961561e+01,  2.31567784e+00,  4.28253112e+01, -6.40533537e-01,\n",
       "       -8.36696445e+01,  4.99383736e+01, -7.44683045e+01, -3.06410069e+01,\n",
       "       -7.79447801e+01,  2.97377954e+00])"
      ]
     },
     "execution_count": 15,
     "metadata": {},
     "output_type": "execute_result"
    }
   ],
   "source": [
    "# size is the number of answers that will be returned when running the code. so below will generate 50 random numbers.\n",
    "np.random.uniform(-90.000, 90.000, size=50) "
   ]
  },
  {
   "cell_type": "code",
   "execution_count": 17,
   "id": "6bf446ce",
   "metadata": {},
   "outputs": [
    {
     "name": "stdout",
     "output_type": "stream",
     "text": [
      "23.5 µs ± 902 ns per loop (mean ± std. dev. of 7 runs, 10000 loops each)\n"
     ]
    }
   ],
   "source": [
    "# below has the timeit magic command to tell us how long it took to run the code. This time we're generating 1500 random numbers.\n",
    "%timeit np.random.uniform(-90.000, 90.000, size=1500)"
   ]
  },
  {
   "cell_type": "code",
   "execution_count": 20,
   "id": "38ea6592",
   "metadata": {},
   "outputs": [
    {
     "name": "stdout",
     "output_type": "stream",
     "text": [
      "3.35 ms ± 230 µs per loop (mean ± std. dev. of 7 runs, 100 loops each)\n"
     ]
    }
   ],
   "source": [
    "# this code does the exaxt same thing as the one above. This is to see if a while loop is faster than using numpy.\n",
    "def latitudes(size):\n",
    "    latitudes = []\n",
    "    x = 0\n",
    "    while x < (size):\n",
    "        random_lat = random.randint(-90, 90) + random.random()\n",
    "        latitudes.append(random_lat)\n",
    "        x += 1\n",
    "    return latitudes\n",
    "# Call the function with 1500.\n",
    "%timeit latitudes(1500)\n",
    "\n",
    "# it looks like NumPy takes 23.5 nano seconds while this one  takes 3.14 ms. So this is much slower. The time appears to vary by decimals each time I run it though."
   ]
  },
  {
   "cell_type": "code",
   "execution_count": null,
   "id": "b61d552f",
   "metadata": {},
   "outputs": [],
   "source": []
  }
 ],
 "metadata": {
  "kernelspec": {
   "display_name": "PythonData",
   "language": "python",
   "name": "pythondata"
  },
  "language_info": {
   "codemirror_mode": {
    "name": "ipython",
    "version": 3
   },
   "file_extension": ".py",
   "mimetype": "text/x-python",
   "name": "python",
   "nbconvert_exporter": "python",
   "pygments_lexer": "ipython3",
   "version": "3.7.10"
  }
 },
 "nbformat": 4,
 "nbformat_minor": 5
}
